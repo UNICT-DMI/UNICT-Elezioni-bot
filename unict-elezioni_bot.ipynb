{
 "cells": [
  {
   "cell_type": "code",
   "execution_count": 1,
   "metadata": {},
   "outputs": [],
   "source": [
    "from telegram import Update, InlineKeyboardMarkup, InlineKeyboardButton, KeyboardButton, ReplyKeyboardMarkup\n",
    "from telegram.ext import Updater, CommandHandler, CallbackContext, CallbackQueryHandler, MessageHandler, Filters"
   ]
  },
  {
   "cell_type": "code",
   "execution_count": 2,
   "metadata": {},
   "outputs": [],
   "source": [
    "def logging_message(update: Update, context: CallbackContext):\n",
    "    try:\n",
    "        message_id = update.message.message_id #ID MESSAGGIO\n",
    "        user = update.message.from_user # Restituisce un oggetto Telegram.User\n",
    "        chat = update.message.chat # Restituisce un oggetto Telegram.Chat\n",
    "        text = update.message.text #Restituisce il testo del messaggio\n",
    "        date = update.message.date #Restituisce la data dell'invio del messaggio\n",
    "        message = \"\\n___ID MESSAGE: \"+ str(message_id) + \"____\\n\" + \\\n",
    "                    \"___INFO USER___\\n\" + \\\n",
    "                    \"user_id:\"+ str(user.id) + \"\\n\" + \\\n",
    "                    \"user_name:\"+ str(user.username) + \"\\n\" + \\\n",
    "                    \"user_firstlastname:\" + str(user.first_name) + \" \" + str(user.last_name) + \"\\n\" + \\\n",
    "                    \"___INFO CHAT___\\n\" + \\\n",
    "                    \"chat_id:\"+ str(chat.id) + \"\\n\" + \\\n",
    "                    \"chat_type:\"+ str(chat.type)+\"\\n\" + \"chat_title:\" + str(chat.title) + \"\\n\" + \\\n",
    "                    \"___TESTO___\\n\" + \\\n",
    "                    \"text:\"+ str(text) + \"\\n\" + \\\n",
    "                    \"date:\"+ str(date) + \\\n",
    "                    \"\\n_____________\\n\"\n",
    "        log_tmp = open(\"logs/logs.txt\",\"a+\")\n",
    "        log_tmp.write(\"\\n\"+message)\n",
    "    except:\n",
    "        pass"
   ]
  },
  {
   "cell_type": "code",
   "execution_count": 3,
   "metadata": {},
   "outputs": [],
   "source": [
    "def get_link(update: Update, context: CallbackContext) -> None:\n",
    "    update.message.reply_text(f'https://unict-dmi.github.io/UNICT-Elezioni')"
   ]
  },
  {
   "cell_type": "code",
   "execution_count": 4,
   "metadata": {},
   "outputs": [],
   "source": [
    "def start(update, context) -> None:\n",
    "    keyboard = [\n",
    "        [\n",
    "            InlineKeyboardButton(\"Option 1\", callback_data='1'),\n",
    "            InlineKeyboardButton(\"Option 2\", callback_data='2'),\n",
    "        ],\n",
    "        [InlineKeyboardButton(\"Link\", callback_data='/link')],\n",
    "    ]\n",
    "\n",
    "    reply_markup = InlineKeyboardMarkup(keyboard)\n",
    "\n",
    "    update.message.reply_text('Please choose:', reply_markup=reply_markup)"
   ]
  },
  {
   "cell_type": "code",
   "execution_count": 5,
   "metadata": {},
   "outputs": [],
   "source": [
    "def button(update: Update, context: CallbackContext) -> None:\n",
    "    query = update.callback_query\n",
    "    query.answer()\n",
    "    if query.data == \"/link\":\n",
    "        get_link(query, context)"
   ]
  },
  {
   "cell_type": "code",
   "execution_count": 6,
   "metadata": {},
   "outputs": [],
   "source": [
    "def main() -> None:\n",
    "    updater = Updater(TOKEN, request_kwargs={'read_timeout': 20, 'connect_timeout': 20}, use_context=True)\n",
    "    dp = updater.dispatcher\n",
    "    dp.add_handler(MessageHandler(Filters.all, logging_message),1)\n",
    "    \n",
    "    dp.add_handler(CommandHandler('start', start))\n",
    "    dp.add_handler(CommandHandler('menu', start))\n",
    "    dp.add_handler(CallbackQueryHandler(button))\n",
    "    dp.add_handler(CommandHandler('link', get_link))\n",
    "    updater.start_polling()\n",
    "    updater.idle()"
   ]
  },
  {
   "cell_type": "code",
   "execution_count": 7,
   "metadata": {},
   "outputs": [],
   "source": [
    "TOKEN = 'YOUR TOKEN'\n",
    "\n",
    "if __name__ == \"__main__\":\n",
    "    main()"
   ]
  },
  {
   "cell_type": "code",
   "execution_count": null,
   "metadata": {},
   "outputs": [],
   "source": []
  }
 ],
 "metadata": {
  "kernelspec": {
   "display_name": "Python 3",
   "language": "python",
   "name": "python3"
  },
  "language_info": {
   "codemirror_mode": {
    "name": "ipython",
    "version": 3
   },
   "file_extension": ".py",
   "mimetype": "text/x-python",
   "name": "python",
   "nbconvert_exporter": "python",
   "pygments_lexer": "ipython3",
   "version": "3.8.3"
  }
 },
 "nbformat": 4,
 "nbformat_minor": 4
}